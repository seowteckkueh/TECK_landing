{
 "cells": [
  {
   "cell_type": "markdown",
   "id": "74b4bf20",
   "metadata": {},
   "source": [
    "### Getting started\n"
   ]
  },
  {
   "cell_type": "markdown",
   "id": "bee51672",
   "metadata": {},
   "source": [
    "#### Create workspace\n",
    "1. Create folder\n",
    "2. File > Save Workspace As  \n",
    "\n",
    "#### Install pipenv\n",
    "1. conda install -c conda-forge pipenv\n",
    "\n",
    "#### Run pipenv\n",
    "1. *conda activate* to activate environment with conda installed \n",
    "2. *pipenv shell* to activate virtual environment\n",
    "\n",
    "ps: a script can be writen to run pipenv shell\n",
    "1. create a file activate.sh\n",
    "2. write pipenv shell in the file and save\n",
    "3. in the terminal type in chmod +x ./.../activate.sh (this is to allow this script to be run as executable in linux)\n",
    "4. run the file ./.../activate.sh\n",
    "\n",
    "#### Install Django in virtual environent\n",
    "1. *pipenv shell* to activate virtual environment\n",
    "2. *pipenv install django==3.0.8 --python 3.8* to install Django\n",
    "3. Pipfile will be created\n",
    "3. *pip freeze* to check what packages are insatlled on this virtual environment\n",
    "\n"
   ]
  },
  {
   "cell_type": "markdown",
   "id": "f09c2e6d",
   "metadata": {},
   "source": [
    "### Creating project"
   ]
  },
  {
   "cell_type": "markdown",
   "id": "ecc4fa21",
   "metadata": {},
   "source": [
    "#### Starting Django Project\n",
    "1. type in *django-admin startproject name_of_project .* in the terminal\n",
    "2. folder *name_of_project* will be created\n",
    "3. to run the django server, type in *python manage.py runserver* in the terminal\n",
    "\n",
    "#### Migrate \n",
    "1. *python manage.py migrate*, taking Django code, adjust database to fit Django code\n",
    "\n",
    "#### Create admin account\n",
    "1. *python manage.py createsuperuser*\n",
    "2. enter username, email, password\n",
    "\n",
    "#### Acces Django admin page\n",
    "1. *python manage.py runserver port_number*\n",
    "2. Add /admin to the Django url\n",
    "3. login using the username and password previously created"
   ]
  },
  {
   "cell_type": "markdown",
   "id": "6f4e54c7",
   "metadata": {},
   "source": [
    "### Creating app component (emails)"
   ]
  },
  {
   "cell_type": "markdown",
   "id": "c5c4cb56",
   "metadata": {},
   "source": [
    "1. *python manage.py startapp emails*, where emails is the app component name\n",
    "2. A folder named *emails* will be created\n",
    "3. models.py is where database is defined\n",
    "4. add the code below in the models.py file"
   ]
  },
  {
   "cell_type": "code",
   "execution_count": null,
   "id": "33445d2b",
   "metadata": {},
   "outputs": [],
   "source": [
    "class EmailEntry(models.Model):\n",
    "    email=models.EmailField()"
   ]
  },
  {
   "cell_type": "markdown",
   "id": "03a2a713",
   "metadata": {},
   "source": [
    "5. Update database about the app/model created\n",
    "6. go back to TECK_landing folder > settings.py\n",
    "7. look for INSTALLED_APPS\n",
    "8. add the emails app into the list\n",
    "9. *python manage.py makemigrations*, preparing to change the database\n",
    "10. *python manage.py migrate*, change the database\n",
    "11. go to emails > admin.py, import EmailEntry model by entering the code below"
   ]
  },
  {
   "cell_type": "code",
   "execution_count": null,
   "id": "0db3df83",
   "metadata": {},
   "outputs": [],
   "source": [
    "from .models import EmailEntry\n",
    "\n",
    "admin.site.register(EmailEntry)"
   ]
  },
  {
   "cell_type": "markdown",
   "id": "8aca253c",
   "metadata": {},
   "source": [
    "### Making changes to models"
   ]
  },
  {
   "cell_type": "markdown",
   "id": "80f39623",
   "metadata": {},
   "source": [
    "1. Add additional info for email, date added, timestamp when the email is added"
   ]
  },
  {
   "cell_type": "code",
   "execution_count": null,
   "id": "a555550d",
   "metadata": {},
   "outputs": [],
   "source": [
    "updated=models.DateTimeField(auto_now=True) # set when saved\n",
    "timestamp=models.DateTimeField(auto_now_add=True) # set when added"
   ]
  },
  {
   "cell_type": "markdown",
   "id": "cf7bcfd4",
   "metadata": {},
   "source": [
    "2. Add field for name"
   ]
  },
  {
   "cell_type": "code",
   "execution_count": null,
   "id": "413d8810",
   "metadata": {},
   "outputs": [],
   "source": [
    "name= models.CharField(max_length=120, blank=True)"
   ]
  },
  {
   "cell_type": "markdown",
   "id": "b3c922c1",
   "metadata": {},
   "source": [
    "3. Add field for bio"
   ]
  },
  {
   "cell_type": "code",
   "execution_count": null,
   "id": "d0466fac",
   "metadata": {},
   "outputs": [],
   "source": [
    "bio=models.TextField(blank=True)"
   ]
  },
  {
   "cell_type": "markdown",
   "id": "e627f55c",
   "metadata": {},
   "source": [
    "### Django and python shell"
   ]
  },
  {
   "cell_type": "markdown",
   "id": "b2ee44f4",
   "metadata": {},
   "source": [
    "#### Start Django managed shell\n",
    "1. *python manage.py shell*\n",
    "\n",
    "#### Access global variables/config in settings.py \n",
    "1. *from django.conf import settings*, this will work on every project\n",
    "2. var_name=getattr(settings, 'var_name','default') OR var_name=settings.var_name\n",
    "3. when do you store things in the settings.py file? credentials etc\n",
    "\n",
    "#### Import a model\n",
    "1. *from \\<appname\\>.models import \\<KlassName\\>*\n",
    "   *from emails.models import EmailEntry*\n",
    "\n",
    "#### Get a single stored item\n",
    "1. *EmailEntry.objects.get(id=1)*\n",
    "2. *EmailEntry.objects.get(email=\"test@yahoo.com\")*\n",
    "\n",
    "#### List all stored items of a Model\n",
    "1. *EmailEntry.objects.all()\n",
    "\n",
    "#### Filter all stored items of a model\n",
    "1. *EmailEntry.objects.filter(email='test@yahoo.com')*\n",
    "\n",
    "#### Create a new stoerd item (instance) of a model\n",
    "1. *EmailEntry.objects.create(email='test1@abc.com')* \n",
    "OR\n",
    "2. obj=EmailEntry()\n",
    "   obj.email='test2@abc.com'\n",
    "   obj.save()\n",
    "   \n",
    "#### Update a new stored item (instance) of a model\n",
    "\n",
    "1. obj=EmailEntry.objects.get(id=1)\n",
    "   obj.name='Benson'\n",
    "   obj.save()\n",
    "\n",
    "#### Delete a new stored item (instance) of a model\n",
    "\n",
    "1. obj=EmailEntry.objects.get(id=2)\n",
    "   obj.delete()\n",
    "   \n",
    "#### CRUD (Create, Retrieve, Update, Delete)"
   ]
  },
  {
   "cell_type": "markdown",
   "id": "7a0e57ff",
   "metadata": {},
   "source": [
    "### MODEL -> VIEW -> TEMPLATE"
   ]
  },
  {
   "cell_type": "code",
   "execution_count": null,
   "id": "2d8eca86",
   "metadata": {},
   "outputs": [],
   "source": [
    "from django.http import HttpResponse\n",
    "from .emails import EmailEntry\n",
    "\n",
    "def email_entry_get_view(request, *args, **kwargs):\n",
    "    #get a single item stored in the database\n",
    "    obj=EmailEntry.objects.get(id=1)\n",
    "    return HttpResponse(f\"<h1>Hello World {obj.email}</h1>\")\n",
    "\n",
    "def email_entry_list_view():\n",
    "    return\n",
    "\n",
    "def email_entry_create_view():\n",
    "    return\n",
    "\n",
    "def email_entry_update_view():\n",
    "    return\n"
   ]
  },
  {
   "cell_type": "markdown",
   "id": "b82b1c48",
   "metadata": {},
   "source": [
    "#### Routing to your view\n",
    "Static routing"
   ]
  },
  {
   "cell_type": "code",
   "execution_count": null,
   "id": "ba72844a",
   "metadata": {},
   "outputs": [],
   "source": [
    "#from emails import views\n",
    "\n",
    "# more preferably\n",
    "from emails.views import email_entry_get_view\n",
    "\n",
    "urlpatterns=[\n",
    "#   path('email/1/',views.email_entry_get_view)\n",
    "    path('email/1/',email_entry_get_view)\n",
    "]"
   ]
  },
  {
   "cell_type": "markdown",
   "id": "d0aa1c10",
   "metadata": {},
   "source": [
    "Dynamic routing"
   ]
  },
  {
   "cell_type": "code",
   "execution_count": null,
   "id": "17ab9d11",
   "metadata": {},
   "outputs": [],
   "source": [
    "# dynamic routing \n",
    "# urls.py\n",
    "from emails.views import email_entry_get_view\n",
    "\n",
    "urlpatterns=[\n",
    "    path('email/<int:id>',email_entry_get_view)\n",
    "]\n",
    "\n",
    "# views.py\n",
    "\n",
    "def email_entry_get_view(request, id, *args, **kwargs): #include id as input from url\n",
    "    obj=EmailEntry.objects.get(id=id) # id=id from url\n",
    "    return HttpResponse(f\"<h1>Hello World {obj.email}</h1>\")"
   ]
  },
  {
   "cell_type": "markdown",
   "id": "6680f489",
   "metadata": {},
   "source": [
    "#### Handling exceptions\n"
   ]
  },
  {
   "cell_type": "code",
   "execution_count": null,
   "id": "57d14413",
   "metadata": {},
   "outputs": [],
   "source": [
    "# views.py\n",
    "from django.http import HttpResponse,Http404\n",
    "\n",
    "def email_entry_get_view(request, id, *args, **kwargs): \n",
    "    try:\n",
    "        obj=EmailEntry.objects.get(id=id) \n",
    "    except:\n",
    "        raise Http404\n",
    "        \n",
    "    return HttpResponse(f\"<h1>Hello World {obj.email}</h1>\")"
   ]
  },
  {
   "cell_type": "code",
   "execution_count": null,
   "id": "890f1ca4",
   "metadata": {},
   "outputs": [],
   "source": [
    "# Be more specific when declaring the exception\n",
    "# views.py\n",
    "from django.http import HttpResponse,Http404\n",
    "\n",
    "def email_entry_get_view(request, id, *args, **kwargs): \n",
    "    try:\n",
    "        obj=EmailEntry.objects.get(id=id) \n",
    "    except EmailEntry.DoesNotExist: #specific exception\n",
    "        raise Http404\n",
    "        \n",
    "    return HttpResponse(f\"<h1>Hello World {obj.email}</h1>\")"
   ]
  },
  {
   "cell_type": "markdown",
   "id": "a89e6aad",
   "metadata": {},
   "source": [
    "#### Different ways to route the URL\n"
   ]
  },
  {
   "cell_type": "code",
   "execution_count": null,
   "id": "4c4903e0",
   "metadata": {},
   "outputs": [],
   "source": [
    "# url.py\n",
    "from django.urls import path,re_path\n",
    "\n",
    "urlpatterns=[\n",
    "    path('email/<int:id>',email_entry_get_view)\n",
    "    re_path(r'email/(?P<id>\\d+)/$',email_entry_get_view) # regular expression\n",
    "    url(r'email/(?P<id>\\d+)/$',email_entry_get_view) # regular expression\n",
    "]"
   ]
  },
  {
   "cell_type": "markdown",
   "id": "d277feed",
   "metadata": {},
   "source": [
    "#### Setting up templates"
   ]
  },
  {
   "cell_type": "markdown",
   "id": "8cbf8470",
   "metadata": {},
   "source": [
    "1. create a directory called templates under TECK-landing\n",
    "2. in settings.py search for TEMPLATES, add the templates folder path"
   ]
  },
  {
   "cell_type": "code",
   "execution_count": null,
   "id": "3e686ab5",
   "metadata": {},
   "outputs": [],
   "source": [
    "TEMPLATES = [\n",
    "    {\n",
    "        'BACKEND': 'django.template.backends.django.DjangoTemplates',\n",
    "        'DIRS': [os.path.join(BASE_DIR,'templates')], #add folder path in DIRS\n",
    "***"
   ]
  },
  {
   "cell_type": "markdown",
   "id": "41fc660f",
   "metadata": {},
   "source": [
    "3. create a new file in templates folder get.html\n",
    "4. add the following to the file"
   ]
  },
  {
   "cell_type": "code",
   "execution_count": null,
   "id": "da11921e",
   "metadata": {},
   "outputs": [],
   "source": [
    "<!doctype html>\n",
    "<html>\n",
    "    <body>\n",
    "        <h1>{{email}}</h1> # double brackets\n",
    "    </body>\n",
    "</html>"
   ]
  },
  {
   "cell_type": "code",
   "execution_count": null,
   "id": "ffed9e28",
   "metadata": {},
   "outputs": [],
   "source": [
    "# views.py\n",
    "def email_entry_get_view(request, id, *args, **kwargs): \n",
    "    try:\n",
    "        obj=EmailEntry.objects.get(id=id) \n",
    "    except EmailEntry.DoesNotExist: #specific exception\n",
    "        raise Http404\n",
    "        \n",
    "    return render(request, \"get.html\",{\"email\":obj.email},{\"object\":obj})"
   ]
  },
  {
   "cell_type": "markdown",
   "id": "1e42e07e",
   "metadata": {},
   "source": [
    "### Static files\n",
    "1. create folder static/img under TECK-landing, this is for hosting static file\n",
    "2. create folder my_CDN, this is Content Delivery Network for serving files to website \n",
    "3. go to the settings.py file, add the following code"
   ]
  },
  {
   "cell_type": "code",
   "execution_count": null,
   "id": "00b97706",
   "metadata": {},
   "outputs": [],
   "source": [
    "# Local static files (not being served ever)\n",
    "# telling Django where the local static files are stored\n",
    "STATICFILES_DIRS=[       \n",
    "    os.path.join(BASE_DIR, 'static')\n",
    "]\n",
    "\n",
    "# CDN - Content Delivery Network - \"SERVING\" dir\n",
    "STATIC_ROOT = os.path.join(BASE_DIR, 'my_CDN','static')"
   ]
  },
  {
   "cell_type": "markdown",
   "id": "bb17169a",
   "metadata": {},
   "source": [
    "4. From bash, run *python manage.py collectstatic*\n",
    "5. Fom urls.py add the following"
   ]
  },
  {
   "cell_type": "code",
   "execution_count": null,
   "id": "737c1fb2",
   "metadata": {},
   "outputs": [],
   "source": [
    "from django.conf import settings\n",
    "from django.conf.urls.static import static\n",
    "\n",
    "if settings.DEBUG: # denotes in DEVELOPMENT not Production\n",
    "    urlpatterns+=static(settings.STATIC_URL,\n",
    "    document_root=settings.STATIC_ROOT)\n"
   ]
  },
  {
   "cell_type": "code",
   "execution_count": null,
   "id": "787812bc",
   "metadata": {},
   "outputs": [],
   "source": [
    "# in get.html file\n",
    "\n",
    "<!doctype html>\n",
    "<html>\n",
    "    <body>\n",
    "        <img src='/static/img/coding.jpg' alt='image'/>\n",
    "        <h1>{{object.email}}</h1>\n",
    "    </body>\n",
    "</html>"
   ]
  },
  {
   "cell_type": "code",
   "execution_count": null,
   "id": "f6f96442",
   "metadata": {},
   "outputs": [],
   "source": [
    "# alternative way\n",
    "{% load static %}\n",
    "<!doctype html>\n",
    "<html>\n",
    "    <body>\n",
    "        <img src={% static '/img/coding.jpg' %} alt='image'/>\n",
    "        <h1>{{object.email}}</h1>\n",
    "    </body>\n",
    "</html>"
   ]
  },
  {
   "cell_type": "markdown",
   "id": "fbc6c563",
   "metadata": {},
   "source": [
    "#### How to run static files?\n",
    "1. self-hosted\n",
    "- static file server (as shown above for development)\n",
    "- whitenoise (on Heroku; not recommended)\n",
    "- AWS S3/Google Cloud Storage  \n",
    "2. CDN\n",
    "- user PUBLIC cdn files\n",
    "- create our own CDN\n",
    "  - AWS CloudFront\n",
    "  - Google Coud CDN\n",
    "  - CloudFlare\n",
    "  - Stackpath\n",
    "  \n",
    "  \n"
   ]
  },
  {
   "cell_type": "markdown",
   "id": "919ff97a",
   "metadata": {},
   "source": [
    "#### Model Forms\n",
    "1. under emails folder create file forms.py"
   ]
  },
  {
   "cell_type": "code",
   "execution_count": null,
   "id": "9df4a3fb",
   "metadata": {},
   "outputs": [],
   "source": [
    "from django import forms\n",
    "from .models import EmailEntry\n",
    "\n",
    "class EmailEntryForm(forms.ModelForm):\n",
    "    class Meta:\n",
    "        model=EmailEntry\n",
    "        fields=['email']"
   ]
  }
 ],
 "metadata": {
  "kernelspec": {
   "display_name": "Python 3 (ipykernel)",
   "language": "python",
   "name": "python3"
  },
  "language_info": {
   "codemirror_mode": {
    "name": "ipython",
    "version": 3
   },
   "file_extension": ".py",
   "mimetype": "text/x-python",
   "name": "python",
   "nbconvert_exporter": "python",
   "pygments_lexer": "ipython3",
   "version": "3.8.11"
  }
 },
 "nbformat": 4,
 "nbformat_minor": 5
}
